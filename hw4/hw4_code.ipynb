{
 "cells": [
  {
   "cell_type": "markdown",
   "metadata": {},
   "source": [
    "## 525 HW4 \n",
    "### Yuxuan Zhang (yuxuanz8)\n",
    "\n",
    "#### 1 Implement the one-step-look-ahead method to generate self-avoiding walks with length d=11 (assume the starting point is (0,0) ). Estimate the mean squared extension $E\\lVert x_d - x_0 \\rVert ^2 $ of self-avoiding walks with length 11 based on 2000 samples."
   ]
  },
  {
   "cell_type": "code",
   "execution_count": 79,
   "metadata": {},
   "outputs": [],
   "source": [
    "import random\n",
    "def saw():\n",
    "    dir = [[1,0],[-1,0],[0,1],[0,-1]]\n",
    "    path = {(0,0):1}\n",
    "    w = 1\n",
    "    point = (0,0)\n",
    "    point_ahead = []\n",
    "    for i in range(11):\n",
    "        point_ahead = []\n",
    "        for dr,dc in dir:\n",
    "            if (point[0]+dr, point[1]+dc) not in path:\n",
    "                point_ahead.append((point[0]+dr, point[1]+dc))\n",
    "        \n",
    "        if not point_ahead:\n",
    "            return (0, (0,0))\n",
    "        else:\n",
    "            w *= len(point_ahead)\n",
    "            j = random.randint(0,len(point_ahead)-1)\n",
    "            point = point_ahead[j]\n",
    "            path[point] = 1\n",
    "    return (w, point)\n",
    "            "
   ]
  },
  {
   "cell_type": "code",
   "execution_count": 80,
   "metadata": {},
   "outputs": [],
   "source": [
    "sample_chain = [0]*2000\n",
    "weight = [0]*2000\n",
    "length = [0]*2000\n",
    "for i in range(2000):\n",
    "    result = saw()\n",
    "    weight[i] = result[0]\n",
    "    sample_chain[i] = (result[1][0])**2 + (result[1][1])**2\n"
   ]
  },
  {
   "cell_type": "code",
   "execution_count": 81,
   "metadata": {},
   "outputs": [
    {
     "data": {
      "text/plain": [
       "29.736596401192674"
      ]
     },
     "execution_count": 81,
     "metadata": {},
     "output_type": "execute_result"
    }
   ],
   "source": [
    "import numpy as np\n",
    "sample = np.asarray(weight)*np.asarray(sample_chain)/sum(weight)\n",
    "# mean\n",
    "mu = np.sum(sample)\n",
    "mu"
   ]
  },
  {
   "cell_type": "code",
   "execution_count": 82,
   "metadata": {},
   "outputs": [
    {
     "data": {
      "text/plain": [
       "0.48572491685714314"
      ]
     },
     "execution_count": 82,
     "metadata": {},
     "output_type": "execute_result"
    }
   ],
   "source": [
    "# standard error\n",
    "hlg = np.asarray(weight)*np.asarray(sample_chain)\n",
    "np.sqrt((np.var(hlg)+mu*mu*np.var(weight)-2*mu*np.cov(hlg,weight)[0][1])/(2000*np.mean(weight)**2))"
   ]
  },
  {
   "cell_type": "markdown",
   "metadata": {},
   "source": [
    "#### 2 Use the one-step look ahead algorithm in problem 1 to estimate the number of self-avoiding walks with length 11 based on 2000 samples."
   ]
  },
  {
   "cell_type": "code",
   "execution_count": 92,
   "metadata": {},
   "outputs": [
    {
     "data": {
      "text/plain": [
       "121594.284"
      ]
     },
     "execution_count": 92,
     "metadata": {},
     "output_type": "execute_result"
    }
   ],
   "source": [
    "# mean\n",
    "np.mean(np.asarray(weight))"
   ]
  },
  {
   "cell_type": "code",
   "execution_count": 91,
   "metadata": {},
   "outputs": [
    {
     "data": {
      "text/plain": [
       "1465.0151530710089"
      ]
     },
     "execution_count": 91,
     "metadata": {},
     "output_type": "execute_result"
    }
   ],
   "source": [
    "# standard error\n",
    "np.sqrt(np.var(np.asarray(weight))/2000) "
   ]
  }
 ],
 "metadata": {
  "kernelspec": {
   "display_name": "Python 3",
   "language": "python",
   "name": "python3"
  },
  "language_info": {
   "codemirror_mode": {
    "name": "ipython",
    "version": 3
   },
   "file_extension": ".py",
   "mimetype": "text/x-python",
   "name": "python",
   "nbconvert_exporter": "python",
   "pygments_lexer": "ipython3",
   "version": "3.7.3"
  }
 },
 "nbformat": 4,
 "nbformat_minor": 2
}
